{
 "cells": [
  {
   "cell_type": "markdown",
   "id": "8e7e1afa-8a6b-46aa-8c92-f2eaa53f6b6b",
   "metadata": {},
   "source": [
    "## **title (Group Proposal)**"
   ]
  },
  {
   "cell_type": "markdown",
   "id": "cd05b702-0080-4cd6-a692-bc9e4e4e80d7",
   "metadata": {},
   "source": [
    "## Introduction\n",
    "\n",
    "**Background**\n",
    "(insert background info here)\n",
    "\n",
    "\n",
    "**Question**\n",
    "(insert question here)\n",
    "\n",
    "**Dataset**\n",
    "(identify and describe dataset here)"
   ]
  },
  {
   "cell_type": "markdown",
   "id": "78b2cc5b-1bd7-4b70-90d7-36d2e53b4992",
   "metadata": {
    "tags": []
   },
   "source": [
    "## Preliminary Data Analysis\n",
    "\n",
    "Here we will show that our dataset can be read from the web into R. We will also wrangle our data into a tidy format and visualize it."
   ]
  },
  {
   "cell_type": "code",
   "execution_count": 1,
   "id": "1c273259-2486-460a-a38e-075a46ce17c3",
   "metadata": {},
   "outputs": [],
   "source": [
    "#read data here"
   ]
  },
  {
   "cell_type": "code",
   "execution_count": 2,
   "id": "36be4e59-5127-4c5e-86ca-49d386f0cf6c",
   "metadata": {},
   "outputs": [],
   "source": [
    "#clean and wrangle data here"
   ]
  },
  {
   "cell_type": "code",
   "execution_count": 3,
   "id": "da448940-6cc7-40dd-8519-5c8771de2bcd",
   "metadata": {},
   "outputs": [],
   "source": [
    "#using training data, summarize data into a table here"
   ]
  },
  {
   "cell_type": "code",
   "execution_count": 4,
   "id": "b0d21307-081b-4d7c-81f2-956a919b5a46",
   "metadata": {},
   "outputs": [],
   "source": [
    "#using training data, visualize data here"
   ]
  },
  {
   "cell_type": "markdown",
   "id": "46bd6565-0f28-4182-8fb6-af735597abd1",
   "metadata": {},
   "source": [
    "## Methods\n",
    "\n",
    "**Conducting Data Analysis**\n",
    "(explain how we conduct data analysis here, and what variables/columns we will use)\n",
    "\n",
    "**Visualizing results**\n",
    "(describe a way we will visualize results)"
   ]
  },
  {
   "cell_type": "markdown",
   "id": "e077ccc6-4fcd-49e3-ac51-1acc5fb389a5",
   "metadata": {},
   "source": [
    "## Expected Outcomes and Significance\n",
    "\n",
    "**What do we expect to find?**\n",
    "(answer here)\n",
    "\n",
    "**What impact could our findings have?**\n",
    "(answer here)\n",
    "\n",
    "**What future questions could this lead to?**\n",
    "(answer here)"
   ]
  }
 ],
 "metadata": {
  "kernelspec": {
   "display_name": "R",
   "language": "R",
   "name": "ir"
  },
  "language_info": {
   "codemirror_mode": "r",
   "file_extension": ".r",
   "mimetype": "text/x-r-source",
   "name": "R",
   "pygments_lexer": "r",
   "version": "4.1.3"
  }
 },
 "nbformat": 4,
 "nbformat_minor": 5
}
