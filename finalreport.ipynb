{
 "cells": [
  {
   "cell_type": "markdown",
   "id": "91495543",
   "metadata": {},
   "source": [
    "## FINAL REPORT: Predicted Chest Pain Type in Cleveland, Ohio \n",
    "(Section 002, Group 31)"
   ]
  },
  {
   "cell_type": "markdown",
   "id": "a582f011",
   "metadata": {
    "tags": []
   },
   "source": [
    "## Introduction\n",
    "\n",
    "**Background:**\n",
    "    Heart disease is the leading cause of death in the United States, including the city of Cleveland in Ohio. Factors that affect the probability of contracting heart disease include, unhealthy diet, high blood pressure, high cholesterol, minimal physical activity, etc. (“Heart disease,” 2022). While heart disease symptoms depend on the type of heart disease, many common symptoms include chest pain, shortness of breath, and pain in the neck, jaw, and throat. As noted, chest pain is often associated with heart disease. Particularly angina is a chest pain caused by poor blood flow to the heart due to the buildup of thick plaques on the inner walls of the arteries carrying blood to the heart, thereby restricting the heart’s supply of blood (“Chest pain,” 2023). Several genetic and lifestyle factors contribute to the risk of developing angina. For example, there is evidence of a positive relationship between age and developing angina; an increase of plaque build up in the arteries is correlated with an increase in age (“Causes and risk,” n.d.).  \n",
    "\n",
    "**Question:** Is it possible to predict chest pain type (1=typical angina, 2=atypical angina, 3=non-anginal pain or 4=asymptomatic*) for a given heart disease patient based on various revelent medical factors and patient information?\n",
    "\n",
    "**Dataset:** Cleveland Heart Disease Processed Data set from https://archive.ics.uci.edu/ml/datasets/Heart+Disease. The sample size (ie. number of rows) of this dataset is 303, and there are 14 columns. The data will be further described throughout our preliminary and exploratory data analysis. "
   ]
  },
  {
   "cell_type": "markdown",
   "id": "81c1b019-c9bb-4c17-b36f-9b72fd33844f",
   "metadata": {
    "tags": []
   },
   "source": [
    "## Methods\n",
    "### Explanotory Data Analysis\n",
    "Here, we will read, tidy, summarize, and visualize the dataset. Ultimately in this section, we want to find our variables of interest to use as predictors for our classification model."
   ]
  },
  {
   "cell_type": "markdown",
   "id": "767787f0-b740-470c-9220-97722ad3e4ff",
   "metadata": {
    "tags": []
   },
   "source": [
    "First, we will start by reading in the dataset from its URL code. The data is untidy - there are no column names, and some variables that should be categorical are categorized as numerical variables instead. We must tidy the data before continuing further data analysis. Our tidy data has proper readable column names, and the variables are correctly categorized (ie. categorical values are listed numerically), which may be unhelpful when trying to visualize and understand the data in R. It is much easier to do data analysis and build a classification model from tidy data. \n",
    "\n",
    "\n",
    "We will rename the columns so that they are named as the correct variable as listed in the Cleveland Heart Disease Dataset description. Then, since we are not using all the variables given in the dataset, we will select specific columns based on our variables of interest to clean and wrangle the data further. For instance, some columns are unspecified or don't have enough information on their meaning from the website (thal, oldpeak, slope, ca, and num), and when tested further there proved to be no significant relationship that would deem them as possible predictor variables in predicting chest pain type and so we decided not include them in our data analysis. In addition, `slope` and `ca` contain question marks(?) which designate them as character types rather than integers, and we will therefore exclude them from consideration. Next, we will mutate certain variables (cp, sex, and exang)and change the type of character they were listed as, so that they are categorical and not numerical. "
   ]
  },
  {
   "cell_type": "markdown",
   "id": "14ebe104-f4f5-40b3-8b52-e64e1103dc33",
   "metadata": {},
   "source": [
    "#### Attach necessary libraries\n",
    "The following code loads five different R packages which helps us with various tasks in our data analysis, visualization, and modeling."
   ]
  },
  {
   "cell_type": "code",
   "execution_count": 22,
   "id": "fc86868e",
   "metadata": {},
   "outputs": [
    {
     "ename": "ERROR",
     "evalue": "Error in library(gridExtra): there is no package called ‘gridExtra’\n",
     "output_type": "error",
     "traceback": [
      "Error in library(gridExtra): there is no package called ‘gridExtra’\nTraceback:\n",
      "1. library(gridExtra)"
     ]
    }
   ],
   "source": [
    "library(tidyverse)\n",
    "library(repr)\n",
    "library(tidymodels)\n",
    "library(RColorBrewer)\n",
    "library(gridExtra)"
   ]
  },
  {
   "cell_type": "markdown",
   "id": "47288869-170e-4b74-821c-acfd8f9e57a9",
   "metadata": {},
   "source": [
    "#### Import the dataset\n",
    "The dataset is imported using the `read_csv` function from the R package we attached above."
   ]
  },
  {
   "cell_type": "code",
   "execution_count": null,
   "id": "70734227-63fc-4ad8-8211-8d3051842766",
   "metadata": {},
   "outputs": [],
   "source": [
    "#read data\n",
    "#add names to columns based on information from website\n",
    "#clean and wrangle data\n",
    "#select columns within the dataset corresponding with our selected variables of interest \n",
    "#mutate certain rows to change the type of character a variable is listed as \n",
    "\n",
    "data <- read_csv(\"https://archive.ics.uci.edu/ml/machine-learning-databases/heart-disease/processed.cleveland.data\",\n",
    "                           col_names = FALSE)\n",
    "\n",
    "tail(data)"
   ]
  },
  {
   "cell_type": "markdown",
   "id": "812d4554-5b92-4c03-bde8-539f5a5be86e",
   "metadata": {},
   "source": [
    "*figure1*"
   ]
  },
  {
   "cell_type": "markdown",
   "id": "fbf57e1b-655b-4424-9be1-d9f5918a3bb5",
   "metadata": {},
   "source": [
    "As illustrated in Figure 1, the dataset lacks column names and has missing data in the `X12` column, which is denoted by a question mark '?'. Additionally, some categorical values are incorrectly labeled as `dbl` and need to be properly tidied."
   ]
  },
  {
   "cell_type": "markdown",
   "id": "a1859e70-d490-4c95-9e3f-ca8d5be3ca2d",
   "metadata": {},
   "source": [
    "#### Clean and Wrangle the data\n",
    "First we rename the columns in the dataset by using more descriptive names, and stores the resulting dataset in a new variable `heart_data`.\""
   ]
  },
  {
   "cell_type": "code",
   "execution_count": null,
   "id": "d1bed10b-3b8c-46e6-bdc8-df2e7e5258ce",
   "metadata": {},
   "outputs": [],
   "source": [
    "heart_data <- data |> \n",
    "        rename(\n",
    "            age = X1,\n",
    "            sex = X2,\n",
    "            cp = X3,\n",
    "            restbp = X4,\n",
    "            chol = X5,\n",
    "            fbs = X6, \n",
    "            restecg = X7,\n",
    "            thalach = X8,\n",
    "            exang = X9,\n",
    "            oldpeak = X10,\n",
    "            slope = X11,\n",
    "            ca = X12,\n",
    "            thal = X13,\n",
    "            num = X14) \n",
    "\n",
    "head(heart_data)"
   ]
  },
  {
   "cell_type": "markdown",
   "id": "85885475-cb21-4c2e-827d-724c349c9c91",
   "metadata": {},
   "source": [
    "*figure 2*\n",
    "\n",
    "We will not use all the variables to answer our research question. Below we will select the specific columns based on our variables of interest to clean and wrangle the data. For instance, some columns are unspecified or don't have enough information on their meaning from the website (`thal`, `oldpeak`, `slope`, `ca`, and `num`), so we will not include them. In addition, `slope` and `ca` contain question marks(?) which designate them as character types rather than integers, and we will therefore exclude them from consideration. Some columns are untidy (categorical values are listed numerically, which may be unhelpful when trying to visualize and understand the data). This can make it difficult to visualize and interpret the data. "
   ]
  },
  {
   "cell_type": "markdown",
   "id": "d1898cda-6e0c-41d1-b7f4-2c7fb048c51d",
   "metadata": {},
   "source": [
    "Then, we create a new dataset `filter_data` by performing the following operations on the `heart_data` dataset."
   ]
  },
  {
   "cell_type": "code",
   "execution_count": null,
   "id": "9982d86f-b023-458a-8089-37b64603b864",
   "metadata": {},
   "outputs": [],
   "source": [
    "filter_data <- heart_data|>\n",
    "    select(cp, age, restbp, chol, thalach, sex, exang)|>\n",
    "    mutate(cp = as_factor(cp)) |>\n",
    "    mutate(sex = as_factor(sex)) |>\n",
    "    mutate(exang = as_factor(exang))\n",
    "head(filter_data)"
   ]
  },
  {
   "cell_type": "markdown",
   "id": "a9c7d7ee-cf6e-4a20-a1a6-8c3c3593431b",
   "metadata": {},
   "source": [
    "*figure3*\n",
    "\n",
    "Now the resulting `filter_data` dataset contains a subset of columns from the original dataset, with some of the columns converted to factor variables for proper statistical analysis"
   ]
  },
  {
   "cell_type": "markdown",
   "id": "c58e2202-f001-4d2d-87b8-123bfd81158f",
   "metadata": {},
   "source": [
    "#### Creating the train/test split\n",
    "Since splitting the data is a randomized process, we used the function `set.seed` to ensure reproducibility. We use `initial_split` to allocate 75% of the data for the training model and the remaining 25% for testing. The 75/25 split ensures there is a representative and sizable subset of the data for both capturing the characteristics of the data and evaluating the model's performance. In testing the performance of the classifier on new unseen data, we can ensure that the model is reliable and accurate in predicting chest pain type and can be generalize to new data."
   ]
  },
  {
   "cell_type": "code",
   "execution_count": null,
   "id": "145f4bd1",
   "metadata": {},
   "outputs": [],
   "source": [
    "#split data into training and testing, with 75% of data as training.\n",
    "set.seed(2000)\n",
    "\n",
    "heart_split <- initial_split(filter_data, prop = 0.75, strata=cp)\n",
    "heart_train <- training(heart_split)\n",
    "heart_test <- testing(heart_split)"
   ]
  },
  {
   "cell_type": "markdown",
   "id": "0f1c136c-9989-46f2-bca7-a27ae296ac88",
   "metadata": {},
   "source": [
    "#### Summarize the data\n",
    "Here we calculate the count and percentage of each chest pain type, as well as the mean and median of age, resting blood pressure, cholesterol, and maximum heart rate. They are divided into three tables, each creating a new data frame by performing different operations for each chain type."
   ]
  },
  {
   "cell_type": "code",
   "execution_count": null,
   "id": "056d9017-7296-4b09-928e-ef2d3ad87d7f",
   "metadata": {},
   "outputs": [],
   "source": [
    "#using training data, summarize data into tables of count, mean values, and median values\n",
    "count_cp <- heart_train|>\n",
    "    group_by(cp)|>\n",
    "    summarize(count = n()) |>\n",
    "    mutate(percent = 100*count/nrow(heart_train))\n",
    "count_cp"
   ]
  },
  {
   "cell_type": "markdown",
   "id": "33901baa-75c6-4685-8495-a04f750a9749",
   "metadata": {},
   "source": [
    "*figure4*"
   ]
  },
  {
   "cell_type": "code",
   "execution_count": null,
   "id": "dfd83109-2213-4238-9a6f-d21d5784c68e",
   "metadata": {},
   "outputs": [],
   "source": [
    "mean_variables <- heart_train |>\n",
    "    group_by(cp) |>\n",
    "    summarize(mean_age=mean(age, na.rm=TRUE),\n",
    "             mean_restbp=mean(restbp, na.rm=TRUE),\n",
    "             mean_chol=mean(chol, na.rm=TRUE),\n",
    "             mean_thalach=mean(thalach, na.rm=TRUE))\n",
    "mean_variables"
   ]
  },
  {
   "cell_type": "markdown",
   "id": "669deda7-01c7-43ec-a125-6e9aa398e4ae",
   "metadata": {},
   "source": [
    "*figure5*"
   ]
  },
  {
   "cell_type": "code",
   "execution_count": null,
   "id": "f16d2f3a-1c33-4674-890b-df09c2bfcf09",
   "metadata": {},
   "outputs": [],
   "source": [
    "median_variables <- heart_train |>\n",
    "    group_by(cp) |>\n",
    "    summarize(median_age=median(age, na.rm=TRUE),\n",
    "             median_restbp=median(restbp, na.rm=TRUE),\n",
    "             median_chol=median(chol, na.rm=TRUE),\n",
    "             median_thalach=median(thalach, na.rm=TRUE))\n",
    "median_variables"
   ]
  },
  {
   "cell_type": "markdown",
   "id": "99a38843",
   "metadata": {},
   "source": [
    "*figure6*\n",
    "\n",
    "Based on our summary data above, we can interpret some of the relationships and trends between `cp` and the variables of interest. We can see that a majority of our data contains points for `cp` = 4, making asymptomic angina the most common type of angina within our dataset. "
   ]
  },
  {
   "cell_type": "markdown",
   "id": "2c904c82-fe33-47bd-9458-c547ac53df81",
   "metadata": {},
   "source": [
    "#### Visualize the predictors and target variable"
   ]
  },
  {
   "cell_type": "code",
   "execution_count": null,
   "id": "49278040-d3e2-4d36-a922-29fc68f73719",
   "metadata": {},
   "outputs": [],
   "source": [
    "#using training data, visualize numeric predictors against each other to see distribution of data\n",
    "\n",
    "restbp_plot <- heart_train |>  \n",
    "    ggplot(aes(x=age, \n",
    "               y= restbp, \n",
    "               colour = cp)) +\n",
    "        labs(x = \"Age (years)\",\n",
    "             y = \"Resting Blood Pressure (mm Hg)\",\n",
    "            colour = 'Chest Pain Type') +\n",
    "        geom_point() +\n",
    "        scale_color_brewer(palette = \"Set1\") +\n",
    "    theme(text = element_text(size = 20)) \n",
    "restbp_plot"
   ]
  },
  {
   "cell_type": "markdown",
   "id": "0e918908-977c-4860-ba15-4850e168a3c9",
   "metadata": {},
   "source": [
    "*figure7*"
   ]
  },
  {
   "cell_type": "code",
   "execution_count": null,
   "id": "febf9d24-c580-4a57-b7b7-e7c416795d28",
   "metadata": {},
   "outputs": [],
   "source": [
    "chol_plot <- heart_train |>  \n",
    "    ggplot(aes(x=age, \n",
    "               y= chol, \n",
    "               colour = cp)) +\n",
    "        labs(x = \"Age (years)\",\n",
    "             y = \"Serum cholesterol (mg/dl)\",\n",
    "            colour = 'Chest Pain Type') +\n",
    "        geom_point() +\n",
    "        scale_color_brewer(palette = \"Set1\") +\n",
    "    theme(text = element_text(size = 20)) \n",
    "chol_plot"
   ]
  },
  {
   "cell_type": "markdown",
   "id": "e86314a4-2468-4f55-849a-aa76cafffbc5",
   "metadata": {},
   "source": [
    "*figure8*"
   ]
  },
  {
   "cell_type": "code",
   "execution_count": null,
   "id": "afabc289-45de-45de-bd74-5030bc4f258b",
   "metadata": {},
   "outputs": [],
   "source": [
    "thalach_plot <- heart_train |>  \n",
    "    ggplot(aes(x=age, \n",
    "               y= thalach, \n",
    "               colour = cp)) +\n",
    "        labs(x = \"Age (years)\",\n",
    "             y = \"Maximum Heart Rate Achieved\",\n",
    "            colour = 'Chest Pain Type') +\n",
    "        geom_point() +\n",
    "        scale_color_brewer(palette = \"Set1\") +\n",
    "    theme(text = element_text(size = 20)) \n",
    "thalach_plot"
   ]
  },
  {
   "cell_type": "markdown",
   "id": "749d9cb2-c0e1-43ec-8bb2-2bb53478078f",
   "metadata": {},
   "source": [
    "*figure9*"
   ]
  },
  {
   "cell_type": "markdown",
   "id": "94100fdd",
   "metadata": {},
   "source": [
    "As we can see, none of the plots really show a clear, distinct relationship between our target variable chest pain type and the tested predictors. This could be for many possible reasons. We only used numeric predictors - perhaps other predictors, such as sex, could yield a more clear distribution. In testing out the relationship between more variables, we could find a better predictor, or if any variable is a good predictor for chest pain at all. If results contain to produce no relationship then perhaps our target variable may need to be refined and could instead be generalized in predicting simply whether or not there is a heart disease diagnosis based on the chosen predictor variables."
   ]
  },
  {
   "cell_type": "code",
   "execution_count": null,
   "id": "58c26fcc-1f56-4bd8-a13e-f81040f56d61",
   "metadata": {},
   "outputs": [],
   "source": [
    "library(GGally)\n",
    "library(broom)"
   ]
  },
  {
   "cell_type": "code",
   "execution_count": null,
   "id": "dbfc3990-e230-4cf6-82f1-c8018647d025",
   "metadata": {},
   "outputs": [],
   "source": [
    "options(repr.plot.height = 15, repr.plot.width = 15)\n",
    "\n",
    "heart_pairs <- filter_data |>\n",
    "    ggpairs(mapping=ggplot2::aes(colour = cp))\n",
    "heart_pairs"
   ]
  },
  {
   "cell_type": "markdown",
   "id": "b92016c2-ccae-4436-bbd5-0b05ceed9a81",
   "metadata": {},
   "source": [
    "*figure10*\n",
    "\n",
    "As we can see from the visualization above of each variable (from the filtered data) compared against each other, none of them show entirely clear relationships, with regard to chest pain type. However, it seems that `age` and `thalach` (maximum heart rate) seem to shown some level of distinction with chest pain types (compared to the other plots). In general, the purple data points (4) are around the bottom, the blue (3) at the top, and the red and green (1 and 2) are moderately scattered throughout. The other plots are completely randomly scattered. Thus, we will use these variables as predictors for our classification model, however, it is likely that our classification model will not have a high accuracy.\n",
    "\n",
    "\n",
    "In addition, from previous literature, it seems that age and maximum heart rate are relevant factors relating to chest pain type. (more literature review)"
   ]
  },
  {
   "cell_type": "markdown",
   "id": "39a06f95",
   "metadata": {
    "jp-MarkdownHeadingCollapsed": true,
    "tags": []
   },
   "source": [
    "Now that we have decided to use `age` and `thalach` as the predictors for our classification model, we can move on to our planned data analysis. We will start with creating a recipe, a knn specification model (using the `tune` function to determine what $k$ value to use, and our classifier with the training data set. Then, we will perform a cross-fold validation and test the metrics with $k$ values from 2-20, and plot the data to find our ideal $k$ value."
   ]
  },
  {
   "cell_type": "code",
   "execution_count": null,
   "id": "c89dacee-fa2f-40f7-8633-4f19cef99388",
   "metadata": {},
   "outputs": [],
   "source": [
    "set.seed(1234) \n",
    "\n",
    "heart_recipe <- recipe(cp ~ age + thalach, data = heart_train)\n",
    "\n",
    "knn_spec <- nearest_neighbor(weight_func = \"rectangular\", neighbors = tune()) |>\n",
    "       set_engine(\"kknn\") |>\n",
    "       set_mode(\"classification\")\n",
    "\n",
    "heart_vfold <- vfold_cv(heart_train, v = 5, strata = cp)\n",
    "\n",
    "gridvals <- tibble(neighbors = seq(2, 20, 1))\n",
    "\n",
    "heart_workflow <- workflow() |>\n",
    "       add_recipe(heart_recipe) |>\n",
    "       add_model(knn_spec) |>\n",
    "       tune_grid(resamples = heart_vfold, grid = gridvals) |>\n",
    "       collect_metrics()\n",
    "\n",
    "accuracies <- heart_workflow |>\n",
    "    filter(.metric == \"accuracy\")\n",
    "\n",
    "cross_val_plot <- ggplot(accuracies, aes(x = neighbors, y = mean))+\n",
    "       geom_point() +\n",
    "       geom_line() +\n",
    "       labs(x = \"Neighbors\", y = \"Accuracy Estimate\") +\n",
    "       scale_x_continuous(breaks = seq(0, 20, by = 1)) +  \n",
    "       scale_y_continuous(limits = c(0, 1.0)) \n",
    "cross_val_plot"
   ]
  },
  {
   "cell_type": "markdown",
   "id": "82aafed5-c5d9-4318-899e-091f4e433b35",
   "metadata": {},
   "source": [
    "*figure11*"
   ]
  },
  {
   "cell_type": "markdown",
   "id": "f6298e36-d906-466c-be7d-2a9bbb740b64",
   "metadata": {},
   "source": [
    "As we can see from the above plot, $k$=10 would be the best possible $k$ value, since its accuracy estimate is the highest among all the values plotted. We will now input that value into a new knn specification model and classifier."
   ]
  },
  {
   "cell_type": "code",
   "execution_count": null,
   "id": "841bd22b-60ec-49fd-9240-48a7984d173a",
   "metadata": {},
   "outputs": [],
   "source": [
    "set.seed(9999) \n",
    "\n",
    "new_knn_spec <- nearest_neighbor(weight_func = \"rectangular\", neighbors = 10) |>\n",
    "       set_engine(\"kknn\") |>\n",
    "       set_mode(\"classification\")\n",
    "\n",
    "heart_fit <- workflow() |>\n",
    "       add_recipe(heart_recipe) |>\n",
    "       add_model(new_knn_spec) |>\n",
    "       fit(data = heart_train)"
   ]
  },
  {
   "cell_type": "markdown",
   "id": "1ea3333f-6ec2-4cd8-abdb-1473a841ee17",
   "metadata": {},
   "source": [
    "Now that we have our final model, we can predict on the test dataset, and report the accuracy and confusion matrix of this prediction."
   ]
  },
  {
   "cell_type": "code",
   "execution_count": null,
   "id": "1f8161d5-6597-495b-9113-ba241e644ae1",
   "metadata": {},
   "outputs": [],
   "source": [
    "heart_predictions <- predict(heart_fit, heart_test) |>\n",
    "    bind_cols(heart_test)\n",
    "heart_predictions\n",
    "\n",
    "heart_metrics <- heart_predictions |>\n",
    "    metrics(truth = cp, estimate = .pred_class)\n",
    "heart_metrics\n",
    "\n",
    "heart_conf_mat <- heart_predictions |>\n",
    "    conf_mat(truth = cp, estimate = .pred_class)\n",
    "head(heart_conf_mat)"
   ]
  },
  {
   "cell_type": "markdown",
   "id": "20570655-5b2a-4be8-991b-426efe166542",
   "metadata": {},
   "source": [
    "*figure12*"
   ]
  },
  {
   "cell_type": "markdown",
   "id": "49024c02",
   "metadata": {},
   "source": [
    "## Discussion\n",
    "\n",
    "**Our Findings:**\n",
    "We wanted to discover if it's possible to predict chest pain type for a given heart disease patient based on various revelent medical factors and patient information. Through our data analysis, we found that `age` and `thalach` (or maximum heart rate) would be the most likely medical factors to help with this prediction. After collecting metrics on our classification model, we found the accuracy to be 0.47. Thus, we can infer that it is possible to predict chest pain type, though the accuracy is not significantly high. We can assume there are many factors at play contributing to chest pain type, and it is difficult to predict what kind a patient may have.\n",
    "\n",
    "**What we expected to find:**\n",
    "We wanted to predict the type of chest pain (1=typical angina, 2=atypical angina, 3=non-anginal pain or 4=asymptomatic*) a patient with heart disease/conditions could expect to have based on relevent medical factors and personal information as noted by the variables of interest listed above. Since the graphs in our preliminary analysis did not show a clear distribution of data or a distinct relationship correlated with chest pain type, it was hard to determine what we would expect to find. Thus, we focused on refining our list of chosen predictor variables to determine whether the variables chosen are effective predictors or not. \n",
    "Our findings were (expected/not expected).\n",
    "\n",
    "**Impact of our findings:**\n",
    "Predicting chest pain type and therefore the severity of the chest pain can provide a physician with the necessary information needed to treat a patient's heart disease. Further data analysis could describe which factor(s), if any, directly lead to a certain chest pain type in order to help physicians when prescribing medications or choosing a course of action for a patient.\n",
    "\n",
    "**Future Questions:**\n",
    "- Is this classification model consistent with data in other parts of the world (eg. Hungary, Switzerland, etc)? \n",
    "- What other variables could be used in predicting chest pain that we haven't already accounted for, and if those variables were added, would that increase the estimate accuracy?\n",
    "- Does there exist any diseases sharing the same predictor variables as chest pain? If so, how can we distinguish between these diseases and chest pain?"
   ]
  },
  {
   "cell_type": "code",
   "execution_count": null,
   "id": "d21c5c36-e059-4a0f-b28b-4b9a631d04b9",
   "metadata": {},
   "outputs": [],
   "source": []
  },
  {
   "cell_type": "markdown",
   "id": "38068473",
   "metadata": {},
   "source": [
    "## References\n",
    "\n",
    "Centers for Disease Control and Prevention. (2022, August 12). Heart disease deaths - health, United States. Centers for Disease Control and Prevention. Retrieved March 11, 2023, from https://www.cdc.gov/nchs/hus/topics/heart-disease-deaths.htm#:~:text=Heart%20disease%20has%20been%20the,excessive%20alcohol%20use%20(2)\n",
    "\n",
    "Mayo Foundation for Medical Education and Research. (2023, March 3). Chest pain. Mayo Clinic. Retrieved March 11, 2023, from https://www.mayoclinic.org/diseases-conditions/chest-pain/symptoms-causes/syc-20370838\n",
    "\n",
    "U.S. Department of Health and Human Services. (2022, March 24). Causes and risk factors. National Heart Lung and Blood Institute. Retrieved March 11, 2023, from https://www.nhlbi.nih.gov/health/angina/causes\n"
   ]
  }
 ],
 "metadata": {
  "kernelspec": {
   "display_name": "R",
   "language": "R",
   "name": "ir"
  },
  "language_info": {
   "codemirror_mode": "r",
   "file_extension": ".r",
   "mimetype": "text/x-r-source",
   "name": "R",
   "pygments_lexer": "r",
   "version": "4.1.1"
  }
 },
 "nbformat": 4,
 "nbformat_minor": 5
}
